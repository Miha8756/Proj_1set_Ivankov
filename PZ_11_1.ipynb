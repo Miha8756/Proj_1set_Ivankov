{
  "nbformat": 4,
  "nbformat_minor": 0,
  "metadata": {
    "colab": {
      "name": "PZ_11_1.ipynb",
      "provenance": [],
      "collapsed_sections": [],
      "authorship_tag": "ABX9TyPL1KLimE20dqRxDR5TaMUd",
      "include_colab_link": true
    },
    "kernelspec": {
      "name": "python3",
      "display_name": "Python 3"
    },
    "language_info": {
      "name": "python"
    }
  },
  "cells": [
    {
      "cell_type": "markdown",
      "metadata": {
        "id": "view-in-github",
        "colab_type": "text"
      },
      "source": [
        "<a href=\"https://colab.research.google.com/github/Miha8756/Proj_1set_Ivankov/blob/master/PZ_11_1.ipynb\" target=\"_parent\"><img src=\"https://colab.research.google.com/assets/colab-badge.svg\" alt=\"Open In Colab\"/></a>"
      ]
    },
    {
      "cell_type": "markdown",
      "source": [
        "Даны три целых числа: A, B, C. Проверить истинность высказывания: \"Число B находится между числами A и C\""
      ],
      "metadata": {
        "id": "z_4UVFh6Snbx"
      }
    },
    {
      "cell_type": "code",
      "source": [
        "# Даны три целых числа: A, B, C. Проверить истинность высказывания: \"Число B находится между числами A и C\"\n",
        "while True:  # Программа постоянно работает даже при ошибке\n",
        "    try:  # Пользователь ввёл числа\n",
        "        A, B, C = map(int, input('Введите три целых числа: ').split())\n",
        "        if (A > B > C) or (A < B < C):  # Проверка числа B на то, стоит ли оно между A и C.\n",
        "            print('Число', B, 'находится между числами', A, 'и', C)\n",
        "        else:\n",
        "            print('Число ', B, ' не находится между числами', A, 'и', C)\n",
        "        break\n",
        "    except ValueError:  # Пользователь ввёл не число, на экран выводится текст, а не ошибка.\n",
        "        print('Вы ввели не числа, пожалуйста введите числа.')\n",
        "print('Программа успешно завершена!')\n"
      ],
      "metadata": {
        "colab": {
          "base_uri": "https://localhost:8080/"
        },
        "id": "sDJ-d7rGSuoC",
        "outputId": "7418aca5-7b55-4d47-b2b0-7daea9b11f72"
      },
      "execution_count": 7,
      "outputs": [
        {
          "output_type": "stream",
          "name": "stdout",
          "text": [
            "Введите три целых числа: 4 6 9\n",
            "Число 6 находится между числами 4 и 9\n",
            "Программа успешно завершена!\n"
          ]
        }
      ]
    },
    {
      "cell_type": "markdown",
      "source": [
        "Даны два целых числа A и B (A < B). Найти произведение всех целых чисел от A до B включительно"
      ],
      "metadata": {
        "id": "Y6sK_LfnS6qC"
      }
    },
    {
      "cell_type": "code",
      "source": [
        "# Даны два целых числа A и B (A < B). Найти произведение всех целых чисел от A до B включительно\n",
        "while True:  # Программа постоянно работает даже при ошибке\n",
        "    try:  # Пользователь ввёл число\n",
        "        print('Введите 2 числа, где первое меньше второго.')\n",
        "        A = int(input('Введите первое число: '))\n",
        "        B = int(input('Введите второе число: '))\n",
        "        if A < B:\n",
        "            break\n",
        "        else:\n",
        "            print('Вы ввели не числа, или вы ввели числа, где A > B, пожалуйста, введите заново числа. ')\n",
        "    except ValueError:  # Человек ввёл не числа\n",
        "        print('Вы ввели не числа, пожалуйста, введите числа.')\n",
        "K = 1  # Счётчик произведения цифр\n",
        "while A - 1 < B:  # Проходит от первого до последнего числа включительно\n",
        "    K *= A  # Умножение каждого числа друг на друга\n",
        "    A += 1  # Счётчик\n",
        "print(K)  # Вывод произведения\n",
        "print('Программа успешно завершена!')\n"
      ],
      "metadata": {
        "colab": {
          "base_uri": "https://localhost:8080/"
        },
        "id": "1h2bWUihS-hn",
        "outputId": "cb578834-5574-4c4d-de29-97c16b2504db"
      },
      "execution_count": 5,
      "outputs": [
        {
          "output_type": "stream",
          "name": "stdout",
          "text": [
            "Введите 2 числа, где первое меньше второго.\n",
            "Введите первое число: 4\n",
            "Введите второе число: 8\n",
            "6720\n",
            "Программа успешно завершена!\n"
          ]
        }
      ]
    },
    {
      "cell_type": "markdown",
      "source": [
        "Найти сумму чисел ряда 1,2,3,4,... от числа n до числа m. Суммирование оформить функцией с параметрами. Значения m и n программа должна запрашивать."
      ],
      "metadata": {
        "id": "U6vb1vjbS_1i"
      }
    },
    {
      "cell_type": "code",
      "source": [
        "# Найти сумму чисел ряда 1,2,3,4,... от числа n до числа m.\n",
        "# Суммирование оформить функцией с параметрами.\n",
        "# Значения m и n программа должна запрашивать.\n",
        "def summa(n, m):  # функция, принимающая значения\n",
        "    n = a\n",
        "    m = b\n",
        "    s = 0  # счётчик\n",
        "    while n - 1 < m:  # проходим от числа n до m включительно\n",
        "        s += n  # находим сумму от n до m включительно\n",
        "        n += 1\n",
        "    return s  # возвращаем сумму\n",
        "\n",
        "\n",
        "a = int(input('Введите первое число: '))\n",
        "b = int(input('Введите второе число: '))\n",
        "print(f'Сумма чисел расположенных между {a} и {b} равно {summa(a, b)}')  # подставляем значения a и b в функцию"
      ],
      "metadata": {
        "colab": {
          "base_uri": "https://localhost:8080/"
        },
        "id": "7fWDNlMhTCOL",
        "outputId": "d46416ea-1412-4fb6-e946-2bf82f95443d"
      },
      "execution_count": 6,
      "outputs": [
        {
          "output_type": "stream",
          "name": "stdout",
          "text": [
            "Введите первое число: 7\n",
            "Введите второе число: 10\n",
            "Сумма чисел расположенных между 7 и 10 равно 34\n"
          ]
        }
      ]
    },
    {
      "cell_type": "markdown",
      "source": [
        ""
      ],
      "metadata": {
        "id": "jOZquPLUSzCK"
      }
    }
  ]
}